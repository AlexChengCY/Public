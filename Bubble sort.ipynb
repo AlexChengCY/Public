{
 "cells": [
  {
   "cell_type": "markdown",
   "id": "3d271f27",
   "metadata": {},
   "source": [
    "# Bubble sort"
   ]
  },
  {
   "cell_type": "markdown",
   "id": "4974c66d",
   "metadata": {},
   "source": [
    "## Welcome to my program! You can simply run this file in Google Colab!"
   ]
  },
  {
   "cell_type": "markdown",
   "id": "df74b8a0",
   "metadata": {},
   "source": [
    "<table align=\"left\">\n",
    "  <td>\n",
    "    <a target=\"_blank\" href=\"https://colab.research.google.com/github/AlexChengCY/Public/blob/main/LICENSE\"><img src=\"https://www.tensorflow.org/images/colab_logo_32px.png\" />Run in Google Colab</a>\n",
    "  </td>\n",
    "</table>"
   ]
  },
  {
   "cell_type": "markdown",
   "id": "3deb2a29",
   "metadata": {},
   "source": [
    "## Program"
   ]
  },
  {
   "cell_type": "code",
   "execution_count": 1,
   "id": "8822f112",
   "metadata": {},
   "outputs": [],
   "source": [
    "def BubbleSort(ListInput):\n",
    "    #Define ListOutput by copying ListInput\n",
    "    ListOutput = ListInput.copy()\n",
    "    for j in range(1,len(ListOutput)): #Repeat the whole process by (the length of the list -1) times\n",
    "        i=1\n",
    "        while i < len(ListOutput): #Swap if previous one larger than the next one\n",
    "            if ListOutput[i-1]>ListOutput[i]:\n",
    "                ListOutput[i-1],ListOutput[i]=ListOutput[i],ListOutput[i-1]\n",
    "            i+=1\n",
    "        j+=1\n",
    "    return ListOutput"
   ]
  },
  {
   "cell_type": "markdown",
   "id": "ab34a00a",
   "metadata": {},
   "source": [
    "## Demonstrate"
   ]
  },
  {
   "cell_type": "code",
   "execution_count": 2,
   "id": "dceaa57a",
   "metadata": {},
   "outputs": [],
   "source": [
    "#Environment setup\n",
    "import random"
   ]
  },
  {
   "cell_type": "code",
   "execution_count": 3,
   "id": "d028d523",
   "metadata": {},
   "outputs": [
    {
     "name": "stdout",
     "output_type": "stream",
     "text": [
      "ListA is set to be [-785, 451, -584, -96, 176, 732, 450, 472, -542, 731]\n"
     ]
    }
   ],
   "source": [
    "#Setup the original list \"ListA\"\n",
    "ListA = []\n",
    "for i in range(10):\n",
    "    ListA.append(random.randint(-1000,1000))\n",
    "print(f\"ListA is set to be {ListA}\")"
   ]
  },
  {
   "cell_type": "code",
   "execution_count": 4,
   "id": "609d85c1",
   "metadata": {},
   "outputs": [
    {
     "name": "stdout",
     "output_type": "stream",
     "text": [
      "Before: [-785, 451, -584, -96, 176, 732, 450, 472, -542, 731]\n",
      "After : [-785, -584, -542, -96, 176, 450, 451, 472, 731, 732]\n"
     ]
    }
   ],
   "source": [
    "#Perform the test\n",
    "ListOutput=BubbleSort(ListA)\n",
    "print(\"Before:\",ListA)\n",
    "print(\"After :\",ListOutput)"
   ]
  }
 ],
 "metadata": {
  "kernelspec": {
   "display_name": "Python 3 (ipykernel)",
   "language": "python",
   "name": "python3"
  },
  "language_info": {
   "codemirror_mode": {
    "name": "ipython",
    "version": 3
   },
   "file_extension": ".py",
   "mimetype": "text/x-python",
   "name": "python",
   "nbconvert_exporter": "python",
   "pygments_lexer": "ipython3",
   "version": "3.8.5"
  }
 },
 "nbformat": 4,
 "nbformat_minor": 5
}
