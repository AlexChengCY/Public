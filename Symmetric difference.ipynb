{
 "cells": [
  {
   "cell_type": "markdown",
   "id": "3d271f27",
   "metadata": {},
   "source": [
    "# Symmetric difference"
   ]
  },
  {
   "cell_type": "markdown",
   "id": "4974c66d",
   "metadata": {},
   "source": [
    "## Welcome to my program! You can simply run this file in Google Colab!"
   ]
  },
  {
   "cell_type": "markdown",
   "id": "df74b8a0",
   "metadata": {},
   "source": [
    "<table align=\"left\">\n",
    "  <td>\n",
    "    <a target=\"_blank\" href=\"https://colab.research.google.com/github/AlexChengCY/Public/blob/main/Symmetric%20difference.ipynb\"><img src=\"https://www.tensorflow.org/images/colab_logo_32px.png\" />Run in Google Colab</a>\n",
    "  </td>\n",
    "</table>"
   ]
  },
  {
   "cell_type": "markdown",
   "id": "3deb2a29",
   "metadata": {},
   "source": [
    "## Program"
   ]
  },
  {
   "cell_type": "code",
   "execution_count": 1,
   "id": "8822f112",
   "metadata": {},
   "outputs": [],
   "source": [
    "#Find the symmetric difference between two sets\n",
    "def sym(set1,set2):\n",
    "    #Define a list and extend both of the sets\n",
    "    MyList=[]\n",
    "    MyList.extend(set1)\n",
    "    MyList.extend(set2)\n",
    "    #Sort the list in ascending order by using developed function\n",
    "    MyList=sorted(MyList)\n",
    "    #Delete repeated numbers in the list\n",
    "    i=0\n",
    "    while i<=len(MyList)-2:\n",
    "        if MyList[i+1]==MyList[i]:\n",
    "            MyList.remove(MyList[i+1])\n",
    "            MyList.remove(MyList[i])\n",
    "        else:\n",
    "            i+=1\n",
    "    #Return symmetric difference\n",
    "    args = MyList.copy()\n",
    "    return args"
   ]
  },
  {
   "cell_type": "markdown",
   "id": "ab34a00a",
   "metadata": {},
   "source": [
    "## Demonstrate"
   ]
  },
  {
   "cell_type": "markdown",
   "id": "a2af301a",
   "metadata": {},
   "source": [
    "### Test 1"
   ]
  },
  {
   "cell_type": "code",
   "execution_count": 2,
   "id": "dceaa57a",
   "metadata": {
    "scrolled": true
   },
   "outputs": [
    {
     "name": "stdout",
     "output_type": "stream",
     "text": [
      "ListA is set to be: {0, 2, 3, 5, 6, 8}\n",
      "ListB is set to be: {0, 2, 3, 4, 5, 6, 7, 8}\n"
     ]
    }
   ],
   "source": [
    "#Setup\n",
    "import random\n",
    "ListA, ListB = [], []\n",
    "for i in range(10):\n",
    "    ListA.append(random.randint(0,8))\n",
    "    ListB.append(random.randint(0,8))\n",
    "ListA, ListB = set(ListA), set(ListB)\n",
    "print(f\"ListA is set to be: {ListA}\\nListB is set to be: {ListB}\")"
   ]
  },
  {
   "cell_type": "code",
   "execution_count": 3,
   "id": "da3065a1",
   "metadata": {},
   "outputs": [
    {
     "data": {
      "text/plain": [
       "[4, 7]"
      ]
     },
     "execution_count": 3,
     "metadata": {},
     "output_type": "execute_result"
    }
   ],
   "source": [
    "#Test\n",
    "sym(ListA,ListB)"
   ]
  },
  {
   "cell_type": "markdown",
   "id": "60d7a928",
   "metadata": {},
   "source": [
    "### Test 2"
   ]
  },
  {
   "cell_type": "code",
   "execution_count": 4,
   "id": "d028d523",
   "metadata": {},
   "outputs": [],
   "source": [
    "#Setup\n",
    "ListA = {-116,23,654,94,777}\n",
    "ListB = {-116,24,456,81,777}"
   ]
  },
  {
   "cell_type": "code",
   "execution_count": 5,
   "id": "609d85c1",
   "metadata": {},
   "outputs": [
    {
     "data": {
      "text/plain": [
       "[23, 24, 81, 94, 456, 654]"
      ]
     },
     "execution_count": 5,
     "metadata": {},
     "output_type": "execute_result"
    }
   ],
   "source": [
    "#Test\n",
    "sym(ListA,ListB)"
   ]
  }
 ],
 "metadata": {
  "kernelspec": {
   "display_name": "Python 3 (ipykernel)",
   "language": "python",
   "name": "python3"
  },
  "language_info": {
   "codemirror_mode": {
    "name": "ipython",
    "version": 3
   },
   "file_extension": ".py",
   "mimetype": "text/x-python",
   "name": "python",
   "nbconvert_exporter": "python",
   "pygments_lexer": "ipython3",
   "version": "3.8.5"
  }
 },
 "nbformat": 4,
 "nbformat_minor": 5
}
