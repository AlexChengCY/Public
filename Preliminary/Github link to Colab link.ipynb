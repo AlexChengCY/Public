{
 "cells": [
  {
   "cell_type": "markdown",
   "id": "5cea1d9e",
   "metadata": {},
   "source": [
    "# Github link to Colab link"
   ]
  },
  {
   "cell_type": "markdown",
   "id": "52f88f80",
   "metadata": {},
   "source": [
    "In this program, you can paste your github link. Then, you will receive a link to colab!"
   ]
  },
  {
   "cell_type": "code",
   "execution_count": 1,
   "id": "2ab91d76",
   "metadata": {},
   "outputs": [],
   "source": [
    "def getlink():\n",
    "    x = input(\"Paste your Github link here: \")\n",
    "    print()\n",
    "    z = True\n",
    "    if x[0]==\"h\" and x[:19]==\"https://github.com/\":\n",
    "        y=x[19:]\n",
    "    elif x[0]==\"g\" and x[:11]==\"github.com/\":\n",
    "        y=x[11:]\n",
    "    else:\n",
    "        print(\"Seems your link is invalid, please have a check on it!\")\n",
    "        z = False\n",
    "    if z:\n",
    "        print(\"The Colab link is here:\")\n",
    "        print(\"https://colab.research.google.com/github/\"+y)"
   ]
  },
  {
   "cell_type": "markdown",
   "id": "94861ea6",
   "metadata": {},
   "source": [
    "Let's have a try!\n",
    "\n",
    "You may use the URL of this website."
   ]
  },
  {
   "cell_type": "code",
   "execution_count": 2,
   "id": "3334151b",
   "metadata": {},
   "outputs": [
    {
     "name": "stdout",
     "output_type": "stream",
     "text": [
      "Paste your Github link here: https://github.com/AlexChengCY/Side-projects/blob/main/Preliminary/Symmetric%20difference.ipynb\n",
      "\n",
      "The Colab link is here:\n",
      "https://colab.research.google.com/github/AlexChengCY/Side-projects/blob/main/Preliminary/Symmetric%20difference.ipynb\n"
     ]
    }
   ],
   "source": [
    "getlink()"
   ]
  }
 ],
 "metadata": {
  "kernelspec": {
   "display_name": "Python 3 (ipykernel)",
   "language": "python",
   "name": "python3"
  },
  "language_info": {
   "codemirror_mode": {
    "name": "ipython",
    "version": 3
   },
   "file_extension": ".py",
   "mimetype": "text/x-python",
   "name": "python",
   "nbconvert_exporter": "python",
   "pygments_lexer": "ipython3",
   "version": "3.8.5"
  }
 },
 "nbformat": 4,
 "nbformat_minor": 5
}
