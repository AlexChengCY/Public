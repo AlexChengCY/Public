{
 "cells": [
  {
   "cell_type": "code",
   "execution_count": 1,
   "id": "3c1ba824",
   "metadata": {},
   "outputs": [],
   "source": [
    "import pandas as pd\n",
    "import matplotlib.pyplot as plt"
   ]
  },
  {
   "cell_type": "code",
   "execution_count": 2,
   "id": "da35ced1",
   "metadata": {},
   "outputs": [
    {
     "data": {
      "text/html": [
       "<div>\n",
       "<style scoped>\n",
       "    .dataframe tbody tr th:only-of-type {\n",
       "        vertical-align: middle;\n",
       "    }\n",
       "\n",
       "    .dataframe tbody tr th {\n",
       "        vertical-align: top;\n",
       "    }\n",
       "\n",
       "    .dataframe thead th {\n",
       "        text-align: right;\n",
       "    }\n",
       "</style>\n",
       "<table border=\"1\" class=\"dataframe\">\n",
       "  <thead>\n",
       "    <tr style=\"text-align: right;\">\n",
       "      <th></th>\n",
       "      <th>country</th>\n",
       "      <th>adjusted_satisfaction</th>\n",
       "      <th>avg_satisfaction</th>\n",
       "      <th>std_satisfaction</th>\n",
       "      <th>avg_income</th>\n",
       "      <th>median_income</th>\n",
       "      <th>income_inequality</th>\n",
       "      <th>region</th>\n",
       "      <th>happyScore</th>\n",
       "      <th>GDP</th>\n",
       "      <th>country.1</th>\n",
       "    </tr>\n",
       "  </thead>\n",
       "  <tbody>\n",
       "    <tr>\n",
       "      <th>65</th>\n",
       "      <td>Madagascar</td>\n",
       "      <td>33.0</td>\n",
       "      <td>3.7</td>\n",
       "      <td>1.86</td>\n",
       "      <td>574.200</td>\n",
       "      <td>415.48</td>\n",
       "      <td>40.72000</td>\n",
       "      <td>'Sub-Saharan Africa'</td>\n",
       "      <td>3.681</td>\n",
       "      <td>0.20824</td>\n",
       "      <td>Madagascar</td>\n",
       "    </tr>\n",
       "    <tr>\n",
       "      <th>10</th>\n",
       "      <td>Burundi</td>\n",
       "      <td>25.0</td>\n",
       "      <td>2.9</td>\n",
       "      <td>1.96</td>\n",
       "      <td>572.880</td>\n",
       "      <td>436.92</td>\n",
       "      <td>33.36000</td>\n",
       "      <td>'Sub-Saharan Africa'</td>\n",
       "      <td>2.905</td>\n",
       "      <td>0.01530</td>\n",
       "      <td>Burundi</td>\n",
       "    </tr>\n",
       "    <tr>\n",
       "      <th>72</th>\n",
       "      <td>Mozambique</td>\n",
       "      <td>34.0</td>\n",
       "      <td>3.8</td>\n",
       "      <td>1.76</td>\n",
       "      <td>714.720</td>\n",
       "      <td>488.52</td>\n",
       "      <td>45.58000</td>\n",
       "      <td>'Sub-Saharan Africa'</td>\n",
       "      <td>4.971</td>\n",
       "      <td>0.08308</td>\n",
       "      <td>Mozambique</td>\n",
       "    </tr>\n",
       "    <tr>\n",
       "      <th>109</th>\n",
       "      <td>Zambia</td>\n",
       "      <td>37.0</td>\n",
       "      <td>5.0</td>\n",
       "      <td>2.61</td>\n",
       "      <td>956.760</td>\n",
       "      <td>510.06</td>\n",
       "      <td>55.12000</td>\n",
       "      <td>'Sub-Saharan Africa'</td>\n",
       "      <td>5.129</td>\n",
       "      <td>0.47038</td>\n",
       "      <td>Zambia</td>\n",
       "    </tr>\n",
       "    <tr>\n",
       "      <th>58</th>\n",
       "      <td>Liberia</td>\n",
       "      <td>37.0</td>\n",
       "      <td>4.4</td>\n",
       "      <td>2.02</td>\n",
       "      <td>653.040</td>\n",
       "      <td>528.72</td>\n",
       "      <td>36.48000</td>\n",
       "      <td>'Sub-Saharan Africa'</td>\n",
       "      <td>4.571</td>\n",
       "      <td>0.07120</td>\n",
       "      <td>Liberia</td>\n",
       "    </tr>\n",
       "    <tr>\n",
       "      <th>...</th>\n",
       "      <td>...</td>\n",
       "      <td>...</td>\n",
       "      <td>...</td>\n",
       "      <td>...</td>\n",
       "      <td>...</td>\n",
       "      <td>...</td>\n",
       "      <td>...</td>\n",
       "      <td>...</td>\n",
       "      <td>...</td>\n",
       "      <td>...</td>\n",
       "      <td>...</td>\n",
       "    </tr>\n",
       "    <tr>\n",
       "      <th>3</th>\n",
       "      <td>Austria</td>\n",
       "      <td>59.0</td>\n",
       "      <td>7.2</td>\n",
       "      <td>2.11</td>\n",
       "      <td>19457.040</td>\n",
       "      <td>16879.62</td>\n",
       "      <td>30.29625</td>\n",
       "      <td>'Western Europe'</td>\n",
       "      <td>7.200</td>\n",
       "      <td>1.33723</td>\n",
       "      <td>Austria</td>\n",
       "    </tr>\n",
       "    <tr>\n",
       "      <th>105</th>\n",
       "      <td>United States</td>\n",
       "      <td>62.0</td>\n",
       "      <td>7.3</td>\n",
       "      <td>1.92</td>\n",
       "      <td>23127.000</td>\n",
       "      <td>17925.36</td>\n",
       "      <td>41.09000</td>\n",
       "      <td>'North America'</td>\n",
       "      <td>7.119</td>\n",
       "      <td>1.39451</td>\n",
       "      <td>United States</td>\n",
       "    </tr>\n",
       "    <tr>\n",
       "      <th>17</th>\n",
       "      <td>Switzerland</td>\n",
       "      <td>70.0</td>\n",
       "      <td>8.0</td>\n",
       "      <td>1.62</td>\n",
       "      <td>23400.040</td>\n",
       "      <td>19442.92</td>\n",
       "      <td>32.93000</td>\n",
       "      <td>'Western Europe'</td>\n",
       "      <td>7.587</td>\n",
       "      <td>1.39651</td>\n",
       "      <td>Switzerland</td>\n",
       "    </tr>\n",
       "    <tr>\n",
       "      <th>77</th>\n",
       "      <td>Norway</td>\n",
       "      <td>70.0</td>\n",
       "      <td>8.0</td>\n",
       "      <td>1.62</td>\n",
       "      <td>21877.710</td>\n",
       "      <td>19477.62</td>\n",
       "      <td>27.30750</td>\n",
       "      <td>'Western Europe'</td>\n",
       "      <td>7.522</td>\n",
       "      <td>1.45900</td>\n",
       "      <td>Norway</td>\n",
       "    </tr>\n",
       "    <tr>\n",
       "      <th>61</th>\n",
       "      <td>Luxembourg</td>\n",
       "      <td>66.0</td>\n",
       "      <td>7.7</td>\n",
       "      <td>1.76</td>\n",
       "      <td>26182.275</td>\n",
       "      <td>22240.23</td>\n",
       "      <td>31.95000</td>\n",
       "      <td>'Western Europe'</td>\n",
       "      <td>6.946</td>\n",
       "      <td>1.56391</td>\n",
       "      <td>Luxembourg</td>\n",
       "    </tr>\n",
       "  </tbody>\n",
       "</table>\n",
       "<p>111 rows × 11 columns</p>\n",
       "</div>"
      ],
      "text/plain": [
       "           country  adjusted_satisfaction  avg_satisfaction  std_satisfaction  \\\n",
       "65      Madagascar                   33.0               3.7              1.86   \n",
       "10         Burundi                   25.0               2.9              1.96   \n",
       "72      Mozambique                   34.0               3.8              1.76   \n",
       "109         Zambia                   37.0               5.0              2.61   \n",
       "58         Liberia                   37.0               4.4              2.02   \n",
       "..             ...                    ...               ...               ...   \n",
       "3          Austria                   59.0               7.2              2.11   \n",
       "105  United States                   62.0               7.3              1.92   \n",
       "17     Switzerland                   70.0               8.0              1.62   \n",
       "77          Norway                   70.0               8.0              1.62   \n",
       "61      Luxembourg                   66.0               7.7              1.76   \n",
       "\n",
       "     avg_income  median_income  income_inequality                region  \\\n",
       "65      574.200         415.48           40.72000  'Sub-Saharan Africa'   \n",
       "10      572.880         436.92           33.36000  'Sub-Saharan Africa'   \n",
       "72      714.720         488.52           45.58000  'Sub-Saharan Africa'   \n",
       "109     956.760         510.06           55.12000  'Sub-Saharan Africa'   \n",
       "58      653.040         528.72           36.48000  'Sub-Saharan Africa'   \n",
       "..          ...            ...                ...                   ...   \n",
       "3     19457.040       16879.62           30.29625      'Western Europe'   \n",
       "105   23127.000       17925.36           41.09000       'North America'   \n",
       "17    23400.040       19442.92           32.93000      'Western Europe'   \n",
       "77    21877.710       19477.62           27.30750      'Western Europe'   \n",
       "61    26182.275       22240.23           31.95000      'Western Europe'   \n",
       "\n",
       "     happyScore      GDP      country.1  \n",
       "65        3.681  0.20824     Madagascar  \n",
       "10        2.905  0.01530        Burundi  \n",
       "72        4.971  0.08308     Mozambique  \n",
       "109       5.129  0.47038         Zambia  \n",
       "58        4.571  0.07120        Liberia  \n",
       "..          ...      ...            ...  \n",
       "3         7.200  1.33723        Austria  \n",
       "105       7.119  1.39451  United States  \n",
       "17        7.587  1.39651    Switzerland  \n",
       "77        7.522  1.45900         Norway  \n",
       "61        6.946  1.56391     Luxembourg  \n",
       "\n",
       "[111 rows x 11 columns]"
      ]
     },
     "execution_count": 2,
     "metadata": {},
     "output_type": "execute_result"
    }
   ],
   "source": [
    "df=pd.read_csv(\"happyscore_income.csv\")\n",
    "df.sort_values(\"median_income\",inplace=True)\n",
    "df"
   ]
  },
  {
   "cell_type": "code",
   "execution_count": 3,
   "id": "d2605d7b",
   "metadata": {},
   "outputs": [],
   "source": [
    "poor= df[df[\"median_income\"]<5000]\n",
    "rich= df[df[\"median_income\"]>15000]"
   ]
  },
  {
   "cell_type": "code",
   "execution_count": 4,
   "id": "7471dfbf",
   "metadata": {
    "scrolled": true
   },
   "outputs": [
    {
     "name": "stdout",
     "output_type": "stream",
     "text": [
      "What region you are looking for?  China\n"
     ]
    },
    {
     "data": {
      "text/plain": [
       "46"
      ]
     },
     "execution_count": 4,
     "metadata": {},
     "output_type": "execute_result"
    }
   ],
   "source": [
    "def find_country(df):\n",
    "    a=df[\"country\"]\n",
    "    a=[i.lower() for i in a]\n",
    "    return a.index(input(\"What region you are looking for?  \").lower())\n",
    "    \n",
    "find_country(df)"
   ]
  },
  {
   "cell_type": "code",
   "execution_count": 5,
   "id": "6a26422d",
   "metadata": {},
   "outputs": [
    {
     "name": "stdout",
     "output_type": "stream",
     "text": [
      "What region you are looking for?  United States\n"
     ]
    },
    {
     "data": {
      "text/plain": [
       "107"
      ]
     },
     "execution_count": 5,
     "metadata": {},
     "output_type": "execute_result"
    }
   ],
   "source": [
    "find_country(df)"
   ]
  },
  {
   "cell_type": "code",
   "execution_count": 6,
   "id": "0ec88f07",
   "metadata": {
    "scrolled": true
   },
   "outputs": [
    {
     "name": "stdout",
     "output_type": "stream",
     "text": [
      "What region you are looking for?  India\n"
     ]
    },
    {
     "data": {
      "text/plain": [
       "22"
      ]
     },
     "execution_count": 6,
     "metadata": {},
     "output_type": "execute_result"
    }
   ],
   "source": [
    "find_country(df)"
   ]
  },
  {
   "cell_type": "code",
   "execution_count": 7,
   "id": "c9abd679",
   "metadata": {
    "scrolled": true
   },
   "outputs": [
    {
     "data": {
      "text/plain": [
       "'Switzerland'"
      ]
     },
     "execution_count": 7,
     "metadata": {},
     "output_type": "execute_result"
    }
   ],
   "source": [
    "hs=df.sort_values(\"happyScore\")\n",
    "hs.iloc[-1,0]"
   ]
  },
  {
   "cell_type": "code",
   "execution_count": 8,
   "id": "1df82d9f",
   "metadata": {
    "scrolled": true
   },
   "outputs": [
    {
     "name": "stdout",
     "output_type": "stream",
     "text": [
      "What region you are looking for?  Switzerland\n"
     ]
    },
    {
     "data": {
      "text/plain": [
       "108"
      ]
     },
     "execution_count": 8,
     "metadata": {},
     "output_type": "execute_result"
    }
   ],
   "source": [
    "find_country(df)"
   ]
  },
  {
   "cell_type": "code",
   "execution_count": 9,
   "id": "600b73c4",
   "metadata": {},
   "outputs": [
    {
     "data": {
      "text/plain": [
       "'Costa Rica'"
      ]
     },
     "execution_count": 9,
     "metadata": {},
     "output_type": "execute_result"
    }
   ],
   "source": [
    "phs=poor.sort_values(\"happyScore\")\n",
    "phs.iloc[-1,0]"
   ]
  },
  {
   "cell_type": "code",
   "execution_count": 10,
   "id": "2a456521",
   "metadata": {
    "scrolled": true
   },
   "outputs": [
    {
     "name": "stdout",
     "output_type": "stream",
     "text": [
      "What region you are looking for?  Costa Rica\n"
     ]
    },
    {
     "data": {
      "text/plain": [
       "70"
      ]
     },
     "execution_count": 10,
     "metadata": {},
     "output_type": "execute_result"
    }
   ],
   "source": [
    "find_country(df)"
   ]
  },
  {
   "cell_type": "code",
   "execution_count": 11,
   "id": "3ea26157",
   "metadata": {},
   "outputs": [
    {
     "data": {
      "image/png": "[encoded data removed]",
      "text/plain": [
       "<Figure size 432x288 with 1 Axes>"
      ]
     },
     "metadata": {
      "needs_background": "light"
     },
     "output_type": "display_data"
    }
   ],
   "source": [
    "plt.scatter(df[\"median_income\"],df[\"happyScore\"])\n",
    "plt.scatter(poor[\"median_income\"],poor[\"happyScore\"],color=\"black\")\n",
    "plt.scatter(rich[\"median_income\"],rich[\"happyScore\"],color=\"green\")\n",
    "plt.text(df.iloc[46,5],df.iloc[46,8],df.iloc[46,0],color=\"red\")\n",
    "plt.text(df.iloc[107,5],df.iloc[107,8],df.iloc[107,0],color=\"red\")\n",
    "plt.text(df.iloc[22,5],df.iloc[22,8],df.iloc[22,0],color=\"red\")\n",
    "plt.text(df.iloc[108,5],df.iloc[108,8],df.iloc[108,0],color=\"red\")\n",
    "plt.text(df.iloc[70,5],df.iloc[70,8],df.iloc[70,0],color=\"red\")\n",
    "plt.xlabel(\"Median Income\")\n",
    "plt.ylabel(\"Happy Score\")\n",
    "plt.show()"
   ]
  }
 ],
 "metadata": {
  "kernelspec": {
   "display_name": "Python 3 (ipykernel)",
   "language": "python",
   "name": "python3"
  },
  "language_info": {
   "codemirror_mode": {
    "name": "ipython",
    "version": 3
   },
   "file_extension": ".py",
   "mimetype": "text/x-python",
   "name": "python",
   "nbconvert_exporter": "python",
   "pygments_lexer": "ipython3",
   "version": "3.8.5"
  }
 },
 "nbformat": 4,
 "nbformat_minor": 5
}
