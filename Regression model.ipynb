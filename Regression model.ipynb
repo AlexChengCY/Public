{
 "cells": [
  {
   "cell_type": "markdown",
   "id": "5e2f68c5",
   "metadata": {},
   "source": [
    "# Illustrate"
   ]
  },
  {
   "cell_type": "markdown",
   "id": "33612eff",
   "metadata": {},
   "source": [
    "This models perform predictions by referencing several predictors from dataframe.\n",
    "\n",
    "Step A is the baseline model, step B uses the same model but with normalized dataframe. Step C and D are based on step B, but with increased training epochs and adding two hidden layers separately.\n",
    "\n",
    "Please execute all the codes in order."
   ]
  },
  {
   "cell_type": "markdown",
   "id": "2f9dea10",
   "metadata": {},
   "source": [
    "<table align=\"left\">\n",
    "  <td>\n",
    "    <a target=\"_blank\" href=\"https://colab.research.google.com/github/AlexChengCY/Public/blob/main/Regression%20model.ipynb\"><img src=\"https://www.tensorflow.org/images/colab_logo_32px.png\" />Run in Google Colab</a>\n",
    "  </td>\n",
    "</table>"
   ]
  },
  {
   "cell_type": "markdown",
   "id": "deb825d5",
   "metadata": {},
   "source": [
    "# Environment setup"
   ]
  },
  {
   "cell_type": "code",
   "execution_count": 1,
   "id": "92271ff3",
   "metadata": {
    "scrolled": true
   },
   "outputs": [
    {
     "name": "stdout",
     "output_type": "stream",
     "text": [
      "Hey! Looks like you accidentally pulled in an incorrect dependency. This can bork your software supply chain in all sorts of ways, so it's very important to be careful with what you're pulling in. Read more about software supply chain security here: https://www.usenix.org/conference/usenixsecurity19/presentation/torres-arias\n"
     ]
    }
   ],
   "source": [
    "import tensorflow as tf\n",
    "from sklearn.model_selection import train_test_split\n",
    "from sklearn.metrics import mean_squared_error\n",
    "import module\n",
    "import requests\n",
    "import pandas as pd\n",
    "import numpy as np"
   ]
  },
  {
   "cell_type": "markdown",
   "id": "8197777b",
   "metadata": {},
   "source": [
    "# A. Build a basline model"
   ]
  },
  {
   "cell_type": "markdown",
   "id": "451940a8",
   "metadata": {},
   "source": [
    "## Get the file"
   ]
  },
  {
   "cell_type": "code",
   "execution_count": 2,
   "id": "d389cda6",
   "metadata": {},
   "outputs": [],
   "source": [
    "concrete_data = pd.read_csv('https://s3-api.us-geo.objectstorage.softlayer.net/cf-courses-data/CognitiveClass/DL0101EN/labs/data/concrete_data.csv')"
   ]
  },
  {
   "cell_type": "markdown",
   "id": "cbd0b311",
   "metadata": {},
   "source": [
    "## 1. Split the data"
   ]
  },
  {
   "cell_type": "code",
   "execution_count": 3,
   "id": "13d2ce9f",
   "metadata": {},
   "outputs": [],
   "source": [
    "concrete_data_columns = concrete_data.columns"
   ]
  },
  {
   "cell_type": "code",
   "execution_count": 4,
   "id": "ce5634e8",
   "metadata": {},
   "outputs": [],
   "source": [
    "X = concrete_data[concrete_data_columns[concrete_data_columns != 'Strength']]\n",
    "y = concrete_data['Strength']"
   ]
  },
  {
   "cell_type": "code",
   "execution_count": 5,
   "id": "e5194d16",
   "metadata": {},
   "outputs": [],
   "source": [
    "def split_data():\n",
    "    global X_train, X_test, y_train, y_test\n",
    "    X_train, X_test, y_train, y_test = train_test_split(X,y,test_size=0.3)"
   ]
  },
  {
   "cell_type": "code",
   "execution_count": 6,
   "id": "8f82e69d",
   "metadata": {},
   "outputs": [],
   "source": [
    "#Below are for demonstration"
   ]
  },
  {
   "cell_type": "code",
   "execution_count": 7,
   "id": "02769e9b",
   "metadata": {},
   "outputs": [],
   "source": [
    "split_data()"
   ]
  },
  {
   "cell_type": "code",
   "execution_count": 8,
   "id": "e0d2955f",
   "metadata": {},
   "outputs": [
    {
     "data": {
      "text/html": [
       "<div>\n",
       "<style scoped>\n",
       "    .dataframe tbody tr th:only-of-type {\n",
       "        vertical-align: middle;\n",
       "    }\n",
       "\n",
       "    .dataframe tbody tr th {\n",
       "        vertical-align: top;\n",
       "    }\n",
       "\n",
       "    .dataframe thead th {\n",
       "        text-align: right;\n",
       "    }\n",
       "</style>\n",
       "<table border=\"1\" class=\"dataframe\">\n",
       "  <thead>\n",
       "    <tr style=\"text-align: right;\">\n",
       "      <th></th>\n",
       "      <th>Cement</th>\n",
       "      <th>Blast Furnace Slag</th>\n",
       "      <th>Fly Ash</th>\n",
       "      <th>Water</th>\n",
       "      <th>Superplasticizer</th>\n",
       "      <th>Coarse Aggregate</th>\n",
       "      <th>Fine Aggregate</th>\n",
       "      <th>Age</th>\n",
       "    </tr>\n",
       "  </thead>\n",
       "  <tbody>\n",
       "    <tr>\n",
       "      <th>177</th>\n",
       "      <td>362.6</td>\n",
       "      <td>189.0</td>\n",
       "      <td>0.0</td>\n",
       "      <td>164.9</td>\n",
       "      <td>11.6</td>\n",
       "      <td>944.7</td>\n",
       "      <td>755.8</td>\n",
       "      <td>91</td>\n",
       "    </tr>\n",
       "    <tr>\n",
       "      <th>696</th>\n",
       "      <td>183.9</td>\n",
       "      <td>122.6</td>\n",
       "      <td>0.0</td>\n",
       "      <td>203.5</td>\n",
       "      <td>0.0</td>\n",
       "      <td>959.2</td>\n",
       "      <td>800.0</td>\n",
       "      <td>7</td>\n",
       "    </tr>\n",
       "    <tr>\n",
       "      <th>300</th>\n",
       "      <td>290.4</td>\n",
       "      <td>0.0</td>\n",
       "      <td>96.2</td>\n",
       "      <td>168.1</td>\n",
       "      <td>9.4</td>\n",
       "      <td>961.2</td>\n",
       "      <td>865.0</td>\n",
       "      <td>14</td>\n",
       "    </tr>\n",
       "    <tr>\n",
       "      <th>619</th>\n",
       "      <td>254.0</td>\n",
       "      <td>0.0</td>\n",
       "      <td>0.0</td>\n",
       "      <td>198.0</td>\n",
       "      <td>0.0</td>\n",
       "      <td>968.0</td>\n",
       "      <td>863.0</td>\n",
       "      <td>180</td>\n",
       "    </tr>\n",
       "    <tr>\n",
       "      <th>863</th>\n",
       "      <td>288.0</td>\n",
       "      <td>121.0</td>\n",
       "      <td>0.0</td>\n",
       "      <td>177.0</td>\n",
       "      <td>7.0</td>\n",
       "      <td>908.0</td>\n",
       "      <td>829.0</td>\n",
       "      <td>28</td>\n",
       "    </tr>\n",
       "    <tr>\n",
       "      <th>...</th>\n",
       "      <td>...</td>\n",
       "      <td>...</td>\n",
       "      <td>...</td>\n",
       "      <td>...</td>\n",
       "      <td>...</td>\n",
       "      <td>...</td>\n",
       "      <td>...</td>\n",
       "      <td>...</td>\n",
       "    </tr>\n",
       "    <tr>\n",
       "      <th>823</th>\n",
       "      <td>322.0</td>\n",
       "      <td>0.0</td>\n",
       "      <td>0.0</td>\n",
       "      <td>203.0</td>\n",
       "      <td>0.0</td>\n",
       "      <td>974.0</td>\n",
       "      <td>800.0</td>\n",
       "      <td>180</td>\n",
       "    </tr>\n",
       "    <tr>\n",
       "      <th>481</th>\n",
       "      <td>446.0</td>\n",
       "      <td>24.0</td>\n",
       "      <td>79.0</td>\n",
       "      <td>162.0</td>\n",
       "      <td>11.6</td>\n",
       "      <td>967.0</td>\n",
       "      <td>712.0</td>\n",
       "      <td>56</td>\n",
       "    </tr>\n",
       "    <tr>\n",
       "      <th>561</th>\n",
       "      <td>397.0</td>\n",
       "      <td>0.0</td>\n",
       "      <td>0.0</td>\n",
       "      <td>185.7</td>\n",
       "      <td>0.0</td>\n",
       "      <td>1040.6</td>\n",
       "      <td>734.3</td>\n",
       "      <td>28</td>\n",
       "    </tr>\n",
       "    <tr>\n",
       "      <th>754</th>\n",
       "      <td>540.0</td>\n",
       "      <td>0.0</td>\n",
       "      <td>0.0</td>\n",
       "      <td>173.0</td>\n",
       "      <td>0.0</td>\n",
       "      <td>1125.0</td>\n",
       "      <td>613.0</td>\n",
       "      <td>90</td>\n",
       "    </tr>\n",
       "    <tr>\n",
       "      <th>956</th>\n",
       "      <td>149.0</td>\n",
       "      <td>117.6</td>\n",
       "      <td>91.7</td>\n",
       "      <td>182.9</td>\n",
       "      <td>7.1</td>\n",
       "      <td>953.4</td>\n",
       "      <td>780.3</td>\n",
       "      <td>28</td>\n",
       "    </tr>\n",
       "  </tbody>\n",
       "</table>\n",
       "<p>721 rows × 8 columns</p>\n",
       "</div>"
      ],
      "text/plain": [
       "     Cement  Blast Furnace Slag  Fly Ash  Water  Superplasticizer  \\\n",
       "177   362.6               189.0      0.0  164.9              11.6   \n",
       "696   183.9               122.6      0.0  203.5               0.0   \n",
       "300   290.4                 0.0     96.2  168.1               9.4   \n",
       "619   254.0                 0.0      0.0  198.0               0.0   \n",
       "863   288.0               121.0      0.0  177.0               7.0   \n",
       "..      ...                 ...      ...    ...               ...   \n",
       "823   322.0                 0.0      0.0  203.0               0.0   \n",
       "481   446.0                24.0     79.0  162.0              11.6   \n",
       "561   397.0                 0.0      0.0  185.7               0.0   \n",
       "754   540.0                 0.0      0.0  173.0               0.0   \n",
       "956   149.0               117.6     91.7  182.9               7.1   \n",
       "\n",
       "     Coarse Aggregate  Fine Aggregate  Age  \n",
       "177             944.7           755.8   91  \n",
       "696             959.2           800.0    7  \n",
       "300             961.2           865.0   14  \n",
       "619             968.0           863.0  180  \n",
       "863             908.0           829.0   28  \n",
       "..                ...             ...  ...  \n",
       "823             974.0           800.0  180  \n",
       "481             967.0           712.0   56  \n",
       "561            1040.6           734.3   28  \n",
       "754            1125.0           613.0   90  \n",
       "956             953.4           780.3   28  \n",
       "\n",
       "[721 rows x 8 columns]"
      ]
     },
     "execution_count": 8,
     "metadata": {},
     "output_type": "execute_result"
    }
   ],
   "source": [
    "X_train"
   ]
  },
  {
   "cell_type": "code",
   "execution_count": 9,
   "id": "b93e0aa7",
   "metadata": {},
   "outputs": [
    {
     "data": {
      "text/plain": [
       "177    79.30\n",
       "696    10.79\n",
       "300    34.67\n",
       "619    27.63\n",
       "863    42.13\n",
       "       ...  \n",
       "823    29.59\n",
       "481    61.07\n",
       "561    33.08\n",
       "754    69.66\n",
       "956    23.52\n",
       "Name: Strength, Length: 721, dtype: float64"
      ]
     },
     "execution_count": 9,
     "metadata": {},
     "output_type": "execute_result"
    }
   ],
   "source": [
    "y_train"
   ]
  },
  {
   "cell_type": "markdown",
   "id": "9ea2d38b",
   "metadata": {},
   "source": [
    "## 2. Train the model"
   ]
  },
  {
   "cell_type": "code",
   "execution_count": 10,
   "id": "1751d467",
   "metadata": {
    "scrolled": true
   },
   "outputs": [],
   "source": [
    "def model_a(verbose=0,epochs=50):\n",
    "    #Build the model\n",
    "    model_a = tf.keras.Sequential([\n",
    "        tf.keras.layers.Dense(10,input_shape=(8,),activation=\"relu\"),\n",
    "        tf.keras.layers.Dense(1)\n",
    "    ])\n",
    "    #Compile the model\n",
    "    model_a.compile(optimizer=\"adam\",loss=tf.losses.mean_squared_error)\n",
    "    #Train the model\n",
    "    model_a.fit(X_train, y_train, validation_data=(X_test,y_test), epochs=epochs, verbose=verbose)\n",
    "    return model_a"
   ]
  },
  {
   "cell_type": "code",
   "execution_count": 11,
   "id": "9e473c29",
   "metadata": {},
   "outputs": [],
   "source": [
    "#Below are for demonstration"
   ]
  },
  {
   "cell_type": "code",
   "execution_count": 12,
   "id": "a9aca0ea",
   "metadata": {},
   "outputs": [
    {
     "name": "stdout",
     "output_type": "stream",
     "text": [
      "Epoch 1/50\n",
      "23/23 [==============================] - 1s 10ms/step - loss: 67145.1484 - val_loss: 17530.8105\n",
      "Epoch 2/50\n",
      "23/23 [==============================] - 0s 5ms/step - loss: 6938.8433 - val_loss: 4797.9004\n",
      "Epoch 3/50\n",
      "23/23 [==============================] - 0s 5ms/step - loss: 4965.5615 - val_loss: 4327.8828\n",
      "Epoch 4/50\n",
      "23/23 [==============================] - 0s 5ms/step - loss: 4282.2061 - val_loss: 4197.2251\n",
      "Epoch 5/50\n",
      "23/23 [==============================] - 0s 5ms/step - loss: 3974.3801 - val_loss: 3848.6396\n",
      "Epoch 6/50\n",
      "23/23 [==============================] - 0s 5ms/step - loss: 3725.4883 - val_loss: 3587.7217\n",
      "Epoch 7/50\n",
      "23/23 [==============================] - 0s 5ms/step - loss: 3480.4712 - val_loss: 3354.0378\n",
      "Epoch 8/50\n",
      "23/23 [==============================] - 0s 5ms/step - loss: 3250.8657 - val_loss: 3118.0259\n",
      "Epoch 9/50\n",
      "23/23 [==============================] - 0s 5ms/step - loss: 3049.3145 - val_loss: 2953.5381\n",
      "Epoch 10/50\n",
      "23/23 [==============================] - 0s 5ms/step - loss: 2864.8860 - val_loss: 2766.3572\n",
      "Epoch 11/50\n",
      "23/23 [==============================] - 0s 5ms/step - loss: 2704.6956 - val_loss: 2597.8247\n",
      "Epoch 12/50\n",
      "23/23 [==============================] - 0s 5ms/step - loss: 2558.5266 - val_loss: 2434.1033\n",
      "Epoch 13/50\n",
      "23/23 [==============================] - 0s 5ms/step - loss: 2415.7893 - val_loss: 2310.3315\n",
      "Epoch 14/50\n",
      "23/23 [==============================] - 0s 5ms/step - loss: 2288.5559 - val_loss: 2186.1091\n",
      "Epoch 15/50\n",
      "23/23 [==============================] - 0s 5ms/step - loss: 2169.7668 - val_loss: 2065.5454\n",
      "Epoch 16/50\n",
      "23/23 [==============================] - 0s 5ms/step - loss: 2091.8179 - val_loss: 1936.9901\n",
      "Epoch 17/50\n",
      "23/23 [==============================] - 0s 5ms/step - loss: 1970.7244 - val_loss: 1874.2185\n",
      "Epoch 18/50\n",
      "23/23 [==============================] - 0s 6ms/step - loss: 1872.1278 - val_loss: 1779.7815\n",
      "Epoch 19/50\n",
      "23/23 [==============================] - 0s 5ms/step - loss: 1783.2864 - val_loss: 1693.0876\n",
      "Epoch 20/50\n",
      "23/23 [==============================] - 0s 5ms/step - loss: 1701.3927 - val_loss: 1613.5668\n",
      "Epoch 21/50\n",
      "23/23 [==============================] - 0s 5ms/step - loss: 1623.1815 - val_loss: 1524.3668\n",
      "Epoch 22/50\n",
      "23/23 [==============================] - 0s 5ms/step - loss: 1560.4413 - val_loss: 1458.5994\n",
      "Epoch 23/50\n",
      "23/23 [==============================] - 0s 5ms/step - loss: 1484.1167 - val_loss: 1376.6512\n",
      "Epoch 24/50\n",
      "23/23 [==============================] - 0s 5ms/step - loss: 1416.3848 - val_loss: 1320.5363\n",
      "Epoch 25/50\n",
      "23/23 [==============================] - 0s 6ms/step - loss: 1352.0046 - val_loss: 1252.7765\n",
      "Epoch 26/50\n",
      "23/23 [==============================] - 0s 5ms/step - loss: 1300.1719 - val_loss: 1193.7402\n",
      "Epoch 27/50\n",
      "23/23 [==============================] - 0s 5ms/step - loss: 1228.6158 - val_loss: 1145.7252\n",
      "Epoch 28/50\n",
      "23/23 [==============================] - 0s 5ms/step - loss: 1171.5920 - val_loss: 1114.3292\n",
      "Epoch 29/50\n",
      "23/23 [==============================] - 0s 5ms/step - loss: 1123.6233 - val_loss: 1022.3136\n",
      "Epoch 30/50\n",
      "23/23 [==============================] - 0s 5ms/step - loss: 1068.2305 - val_loss: 990.5788\n",
      "Epoch 31/50\n",
      "23/23 [==============================] - 0s 5ms/step - loss: 1017.6359 - val_loss: 943.2554\n",
      "Epoch 32/50\n",
      "23/23 [==============================] - 0s 5ms/step - loss: 968.3776 - val_loss: 912.8650\n",
      "Epoch 33/50\n",
      "23/23 [==============================] - 0s 5ms/step - loss: 922.4684 - val_loss: 846.7684\n",
      "Epoch 34/50\n",
      "23/23 [==============================] - 0s 5ms/step - loss: 878.2069 - val_loss: 816.0461\n",
      "Epoch 35/50\n",
      "23/23 [==============================] - 0s 6ms/step - loss: 839.2114 - val_loss: 785.8789\n",
      "Epoch 36/50\n",
      "23/23 [==============================] - 0s 6ms/step - loss: 800.0089 - val_loss: 734.7625\n",
      "Epoch 37/50\n",
      "23/23 [==============================] - 0s 5ms/step - loss: 770.7348 - val_loss: 726.7362\n",
      "Epoch 38/50\n",
      "23/23 [==============================] - 0s 5ms/step - loss: 726.6091 - val_loss: 672.7172\n",
      "Epoch 39/50\n",
      "23/23 [==============================] - 0s 5ms/step - loss: 701.1883 - val_loss: 630.4207\n",
      "Epoch 40/50\n",
      "23/23 [==============================] - 0s 5ms/step - loss: 662.0016 - val_loss: 606.0093\n",
      "Epoch 41/50\n",
      "23/23 [==============================] - 0s 5ms/step - loss: 624.5612 - val_loss: 581.0916\n",
      "Epoch 42/50\n",
      "23/23 [==============================] - 0s 5ms/step - loss: 596.6395 - val_loss: 547.0388\n",
      "Epoch 43/50\n",
      "23/23 [==============================] - 0s 5ms/step - loss: 566.9045 - val_loss: 530.3680\n",
      "Epoch 44/50\n",
      "23/23 [==============================] - 0s 5ms/step - loss: 539.5793 - val_loss: 498.6123\n",
      "Epoch 45/50\n",
      "23/23 [==============================] - 0s 5ms/step - loss: 515.4206 - val_loss: 488.4011\n",
      "Epoch 46/50\n",
      "23/23 [==============================] - 0s 5ms/step - loss: 493.1960 - val_loss: 451.9279\n",
      "Epoch 47/50\n",
      "23/23 [==============================] - 0s 5ms/step - loss: 467.5613 - val_loss: 437.2181\n",
      "Epoch 48/50\n",
      "23/23 [==============================] - 0s 5ms/step - loss: 445.2621 - val_loss: 429.4839\n",
      "Epoch 49/50\n",
      "23/23 [==============================] - 0s 5ms/step - loss: 430.7429 - val_loss: 398.0300\n",
      "Epoch 50/50\n",
      "23/23 [==============================] - 0s 5ms/step - loss: 407.2527 - val_loss: 378.6284\n"
     ]
    },
    {
     "data": {
      "text/plain": [
       "<keras.engine.sequential.Sequential at 0x1bb1b058040>"
      ]
     },
     "execution_count": 12,
     "metadata": {},
     "output_type": "execute_result"
    }
   ],
   "source": [
    "model_a(verbose=1)"
   ]
  },
  {
   "cell_type": "markdown",
   "id": "eea8fec0",
   "metadata": {},
   "source": [
    "## 3. Evaluating the model"
   ]
  },
  {
   "cell_type": "code",
   "execution_count": 13,
   "id": "2bfbbe06",
   "metadata": {},
   "outputs": [],
   "source": [
    "def evaluate(epochs=50):\n",
    "    split_data()\n",
    "    return mean_squared_error(model_a(epochs=epochs).predict(X_test),y_test)"
   ]
  },
  {
   "cell_type": "code",
   "execution_count": 14,
   "id": "425f1191",
   "metadata": {},
   "outputs": [],
   "source": [
    "#Below are for demonstration"
   ]
  },
  {
   "cell_type": "code",
   "execution_count": 15,
   "id": "8011c13f",
   "metadata": {
    "scrolled": true
   },
   "outputs": [
    {
     "data": {
      "text/plain": [
       "203.23672686981106"
      ]
     },
     "execution_count": 15,
     "metadata": {},
     "output_type": "execute_result"
    }
   ],
   "source": [
    "evaluate() # return the mean squared error"
   ]
  },
  {
   "cell_type": "markdown",
   "id": "b365e5e1",
   "metadata": {},
   "source": [
    "## 4.Repeat and creat a list"
   ]
  },
  {
   "cell_type": "code",
   "execution_count": 16,
   "id": "f43e6c2a",
   "metadata": {},
   "outputs": [
    {
     "name": "stdout",
     "output_type": "stream",
     "text": [
      "Calculating......\n",
      "Finished 1/50\n",
      "Finished 2/50\n",
      "Finished 3/50\n",
      "Finished 4/50\n",
      "Finished 5/50\n",
      "Finished 6/50\n",
      "Finished 7/50\n",
      "Finished 8/50\n",
      "Finished 9/50\n",
      "Finished 10/50\n",
      "Finished 11/50\n",
      "Finished 12/50\n",
      "Finished 13/50\n",
      "Finished 14/50\n",
      "Finished 15/50\n",
      "Finished 16/50\n",
      "Finished 17/50\n",
      "Finished 18/50\n",
      "Finished 19/50\n",
      "Finished 20/50\n",
      "Finished 21/50\n",
      "Finished 22/50\n",
      "Finished 23/50\n",
      "Finished 24/50\n",
      "Finished 25/50\n",
      "Finished 26/50\n",
      "Finished 27/50\n",
      "Finished 28/50\n",
      "Finished 29/50\n",
      "Finished 30/50\n",
      "Finished 31/50\n",
      "Finished 32/50\n",
      "Finished 33/50\n",
      "Finished 34/50\n",
      "Finished 35/50\n",
      "Finished 36/50\n",
      "Finished 37/50\n",
      "Finished 38/50\n",
      "Finished 39/50\n",
      "Finished 40/50\n",
      "Finished 41/50\n",
      "Finished 42/50\n",
      "Finished 43/50\n",
      "Finished 44/50\n",
      "Finished 45/50\n",
      "Finished 46/50\n",
      "Finished 47/50\n",
      "Finished 48/50\n",
      "Finished 49/50\n",
      "Finished 50/50\n",
      "\n",
      "The list containing mean squared errors: [128.39673722628015, 157.9549234607012, 347.92989352256217, 123.25567499517875, 300.15885359294344, 197.29874922051724, 162.53959323594023, 729.4487116494564, 107.28603166142726, 2346.3219923063266, 2258.9514024182035, 1517.988183494863, 114.00463842237778, 726.0221970324164, 141.62980108582565, 262.56162679293953, 264.6247422175282, 145.45738334695884, 766.4149020240334, 1330.989298725941, 523.4272739275526, 105.43206672485935, 323.12332021281605, 111.22750435143821, 106.3137580666519, 114.32535786594798, 191.69424051713855, 169.307155423452, 358.76147679401737, 564.1417180905476, 119.23434933978602, 702.162515287391, 444.65383433618865, 592.8552805848976, 414.11420658562247, 154.11854864670778, 127.87265703069421, 278.58606989882736, 753.3516314582201, 355.70768506986445, 513.0216903476021, 310.62578281466824, 311.46184409442554, 225.72235212475454, 267.60235939513467, 268.99621617908673, 602.1068871195553, 923.0080835943592, 291.9614447389004, 115.08069882760145]\n"
     ]
    }
   ],
   "source": [
    "MSE = [] # It will contain the 50 mean squared errors\n",
    "print(\"Calculating......\")\n",
    "for i in range(50):\n",
    "    MSE.append(evaluate())\n",
    "    print(f\"Finished {i+1}/50\")\n",
    "print(f\"\\nThe list containing mean squared errors: {MSE}\")"
   ]
  },
  {
   "cell_type": "markdown",
   "id": "b99305eb",
   "metadata": {},
   "source": [
    "## 5. Report the mean and standard deviation"
   ]
  },
  {
   "cell_type": "code",
   "execution_count": 17,
   "id": "2fe4064e",
   "metadata": {
    "scrolled": true
   },
   "outputs": [
    {
     "name": "stdout",
     "output_type": "stream",
     "text": [
      "The mean is \"449.3847\" and the standard deviation is \"484.0226\".\n"
     ]
    }
   ],
   "source": [
    "# Calculate the mean\n",
    "mean = np.mean(MSE)\n",
    "# Calculate standard deviation\n",
    "std = np.std(MSE)\n",
    "# Report\n",
    "print(f\"The mean is \\\"{mean:.4f}\\\" and the standard deviation is \\\"{std:.4f}\\\".\")"
   ]
  },
  {
   "cell_type": "markdown",
   "id": "d35db89d",
   "metadata": {},
   "source": [
    "# B. Normalize the data"
   ]
  },
  {
   "cell_type": "markdown",
   "id": "284bf2fa",
   "metadata": {},
   "source": [
    "## Copy dataframe and perform normalization"
   ]
  },
  {
   "cell_type": "code",
   "execution_count": 18,
   "id": "13c2703b",
   "metadata": {},
   "outputs": [],
   "source": [
    "nor_data = concrete_data.copy()"
   ]
  },
  {
   "cell_type": "code",
   "execution_count": 20,
   "id": "fe5fd978",
   "metadata": {},
   "outputs": [],
   "source": [
    "nor_data_columns = nor_data.columns"
   ]
  },
  {
   "cell_type": "code",
   "execution_count": 23,
   "id": "8b55aecb",
   "metadata": {
    "scrolled": true
   },
   "outputs": [],
   "source": [
    "for i in nor_data_columns:\n",
    "    i = str(i)\n",
    "    mean = np.mean(nor_data[i])\n",
    "    std = np.std(nor_data[i])\n",
    "    nor_data[i] = (nor_data[i]-mean)/std"
   ]
  },
  {
   "cell_type": "code",
   "execution_count": 24,
   "id": "f1411fdb",
   "metadata": {},
   "outputs": [],
   "source": [
    "X = nor_data[nor_data_columns[nor_data_columns != 'Strength']]\n",
    "y = nor_data['Strength']"
   ]
  },
  {
   "cell_type": "code",
   "execution_count": 26,
   "id": "5c214855",
   "metadata": {},
   "outputs": [
    {
     "data": {
      "text/html": [
       "<div>\n",
       "<style scoped>\n",
       "    .dataframe tbody tr th:only-of-type {\n",
       "        vertical-align: middle;\n",
       "    }\n",
       "\n",
       "    .dataframe tbody tr th {\n",
       "        vertical-align: top;\n",
       "    }\n",
       "\n",
       "    .dataframe thead th {\n",
       "        text-align: right;\n",
       "    }\n",
       "</style>\n",
       "<table border=\"1\" class=\"dataframe\">\n",
       "  <thead>\n",
       "    <tr style=\"text-align: right;\">\n",
       "      <th></th>\n",
       "      <th>Cement</th>\n",
       "      <th>Blast Furnace Slag</th>\n",
       "      <th>Fly Ash</th>\n",
       "      <th>Water</th>\n",
       "      <th>Superplasticizer</th>\n",
       "      <th>Coarse Aggregate</th>\n",
       "      <th>Fine Aggregate</th>\n",
       "      <th>Age</th>\n",
       "      <th>Strength</th>\n",
       "    </tr>\n",
       "  </thead>\n",
       "  <tbody>\n",
       "    <tr>\n",
       "      <th>0</th>\n",
       "      <td>2.477915</td>\n",
       "      <td>-0.856888</td>\n",
       "      <td>-0.847144</td>\n",
       "      <td>-0.916764</td>\n",
       "      <td>-0.620448</td>\n",
       "      <td>0.863154</td>\n",
       "      <td>-1.217670</td>\n",
       "      <td>-0.279733</td>\n",
       "      <td>2.645408</td>\n",
       "    </tr>\n",
       "    <tr>\n",
       "      <th>1</th>\n",
       "      <td>2.477915</td>\n",
       "      <td>-0.856888</td>\n",
       "      <td>-0.847144</td>\n",
       "      <td>-0.916764</td>\n",
       "      <td>-0.620448</td>\n",
       "      <td>1.056164</td>\n",
       "      <td>-1.217670</td>\n",
       "      <td>-0.279733</td>\n",
       "      <td>1.561421</td>\n",
       "    </tr>\n",
       "    <tr>\n",
       "      <th>2</th>\n",
       "      <td>0.491425</td>\n",
       "      <td>0.795526</td>\n",
       "      <td>-0.847144</td>\n",
       "      <td>2.175461</td>\n",
       "      <td>-1.039143</td>\n",
       "      <td>-0.526517</td>\n",
       "      <td>-2.240917</td>\n",
       "      <td>3.553066</td>\n",
       "      <td>0.266627</td>\n",
       "    </tr>\n",
       "    <tr>\n",
       "      <th>3</th>\n",
       "      <td>0.491425</td>\n",
       "      <td>0.795526</td>\n",
       "      <td>-0.847144</td>\n",
       "      <td>2.175461</td>\n",
       "      <td>-1.039143</td>\n",
       "      <td>-0.526517</td>\n",
       "      <td>-2.240917</td>\n",
       "      <td>5.057677</td>\n",
       "      <td>0.313340</td>\n",
       "    </tr>\n",
       "    <tr>\n",
       "      <th>4</th>\n",
       "      <td>-0.790459</td>\n",
       "      <td>0.678408</td>\n",
       "      <td>-0.847144</td>\n",
       "      <td>0.488793</td>\n",
       "      <td>-1.039143</td>\n",
       "      <td>0.070527</td>\n",
       "      <td>0.647884</td>\n",
       "      <td>4.978487</td>\n",
       "      <td>0.507979</td>\n",
       "    </tr>\n",
       "    <tr>\n",
       "      <th>...</th>\n",
       "      <td>...</td>\n",
       "      <td>...</td>\n",
       "      <td>...</td>\n",
       "      <td>...</td>\n",
       "      <td>...</td>\n",
       "      <td>...</td>\n",
       "      <td>...</td>\n",
       "      <td>...</td>\n",
       "      <td>...</td>\n",
       "    </tr>\n",
       "    <tr>\n",
       "      <th>1025</th>\n",
       "      <td>-0.045645</td>\n",
       "      <td>0.488235</td>\n",
       "      <td>0.564545</td>\n",
       "      <td>-0.092171</td>\n",
       "      <td>0.451410</td>\n",
       "      <td>-1.323005</td>\n",
       "      <td>-0.065893</td>\n",
       "      <td>-0.279733</td>\n",
       "      <td>0.506781</td>\n",
       "    </tr>\n",
       "    <tr>\n",
       "      <th>1026</th>\n",
       "      <td>0.392819</td>\n",
       "      <td>-0.856888</td>\n",
       "      <td>0.960068</td>\n",
       "      <td>0.676200</td>\n",
       "      <td>0.702626</td>\n",
       "      <td>-1.994680</td>\n",
       "      <td>0.496893</td>\n",
       "      <td>-0.279733</td>\n",
       "      <td>-0.277762</td>\n",
       "    </tr>\n",
       "    <tr>\n",
       "      <th>1027</th>\n",
       "      <td>-1.270088</td>\n",
       "      <td>0.759579</td>\n",
       "      <td>0.850635</td>\n",
       "      <td>0.521589</td>\n",
       "      <td>-0.017528</td>\n",
       "      <td>-1.036064</td>\n",
       "      <td>0.080107</td>\n",
       "      <td>-0.279733</td>\n",
       "      <td>-0.725729</td>\n",
       "    </tr>\n",
       "    <tr>\n",
       "      <th>1028</th>\n",
       "      <td>-1.168610</td>\n",
       "      <td>1.308065</td>\n",
       "      <td>-0.847144</td>\n",
       "      <td>-0.279579</td>\n",
       "      <td>0.853356</td>\n",
       "      <td>0.214641</td>\n",
       "      <td>0.191166</td>\n",
       "      <td>-0.279733</td>\n",
       "      <td>-0.182539</td>\n",
       "    </tr>\n",
       "    <tr>\n",
       "      <th>1029</th>\n",
       "      <td>-0.194033</td>\n",
       "      <td>0.308499</td>\n",
       "      <td>0.376945</td>\n",
       "      <td>0.891719</td>\n",
       "      <td>0.401166</td>\n",
       "      <td>-1.395062</td>\n",
       "      <td>-0.150748</td>\n",
       "      <td>-0.279733</td>\n",
       "      <td>-0.204697</td>\n",
       "    </tr>\n",
       "  </tbody>\n",
       "</table>\n",
       "<p>1030 rows × 9 columns</p>\n",
       "</div>"
      ],
      "text/plain": [
       "        Cement  Blast Furnace Slag   Fly Ash     Water  Superplasticizer  \\\n",
       "0     2.477915           -0.856888 -0.847144 -0.916764         -0.620448   \n",
       "1     2.477915           -0.856888 -0.847144 -0.916764         -0.620448   \n",
       "2     0.491425            0.795526 -0.847144  2.175461         -1.039143   \n",
       "3     0.491425            0.795526 -0.847144  2.175461         -1.039143   \n",
       "4    -0.790459            0.678408 -0.847144  0.488793         -1.039143   \n",
       "...        ...                 ...       ...       ...               ...   \n",
       "1025 -0.045645            0.488235  0.564545 -0.092171          0.451410   \n",
       "1026  0.392819           -0.856888  0.960068  0.676200          0.702626   \n",
       "1027 -1.270088            0.759579  0.850635  0.521589         -0.017528   \n",
       "1028 -1.168610            1.308065 -0.847144 -0.279579          0.853356   \n",
       "1029 -0.194033            0.308499  0.376945  0.891719          0.401166   \n",
       "\n",
       "      Coarse Aggregate  Fine Aggregate       Age  Strength  \n",
       "0             0.863154       -1.217670 -0.279733  2.645408  \n",
       "1             1.056164       -1.217670 -0.279733  1.561421  \n",
       "2            -0.526517       -2.240917  3.553066  0.266627  \n",
       "3            -0.526517       -2.240917  5.057677  0.313340  \n",
       "4             0.070527        0.647884  4.978487  0.507979  \n",
       "...                ...             ...       ...       ...  \n",
       "1025         -1.323005       -0.065893 -0.279733  0.506781  \n",
       "1026         -1.994680        0.496893 -0.279733 -0.277762  \n",
       "1027         -1.036064        0.080107 -0.279733 -0.725729  \n",
       "1028          0.214641        0.191166 -0.279733 -0.182539  \n",
       "1029         -1.395062       -0.150748 -0.279733 -0.204697  \n",
       "\n",
       "[1030 rows x 9 columns]"
      ]
     },
     "execution_count": 26,
     "metadata": {},
     "output_type": "execute_result"
    }
   ],
   "source": [
    "# Visualizing the normalized dataframe\n",
    "nor_data"
   ]
  },
  {
   "cell_type": "markdown",
   "id": "c80c4d53",
   "metadata": {},
   "source": [
    "## Perform training"
   ]
  },
  {
   "cell_type": "code",
   "execution_count": 27,
   "id": "015bee55",
   "metadata": {},
   "outputs": [
    {
     "name": "stdout",
     "output_type": "stream",
     "text": [
      "Calculating......\n",
      "Finished 1/50\n",
      "Finished 2/50\n",
      "Finished 3/50\n",
      "Finished 4/50\n",
      "Finished 5/50\n",
      "Finished 6/50\n",
      "Finished 7/50\n",
      "Finished 8/50\n",
      "Finished 9/50\n",
      "Finished 10/50\n",
      "Finished 11/50\n",
      "Finished 12/50\n",
      "Finished 13/50\n",
      "Finished 14/50\n",
      "Finished 15/50\n",
      "Finished 16/50\n",
      "Finished 17/50\n",
      "Finished 18/50\n",
      "Finished 19/50\n",
      "Finished 20/50\n",
      "Finished 21/50\n",
      "Finished 22/50\n",
      "Finished 23/50\n",
      "Finished 24/50\n",
      "Finished 25/50\n",
      "Finished 26/50\n",
      "Finished 27/50\n",
      "Finished 28/50\n",
      "Finished 29/50\n",
      "Finished 30/50\n",
      "Finished 31/50\n",
      "Finished 32/50\n",
      "Finished 33/50\n",
      "Finished 34/50\n",
      "Finished 35/50\n",
      "Finished 36/50\n",
      "Finished 37/50\n",
      "Finished 38/50\n",
      "Finished 39/50\n",
      "Finished 40/50\n",
      "Finished 41/50\n",
      "Finished 42/50\n",
      "Finished 43/50\n",
      "Finished 44/50\n",
      "Finished 45/50\n",
      "Finished 46/50\n",
      "Finished 47/50\n",
      "Finished 48/50\n",
      "Finished 49/50\n",
      "Finished 50/50\n",
      "\n",
      "The list containing mean squared errors: [0.2193361849353917, 0.25169610426444194, 0.3299793218725425, 0.2357311755934247, 0.23035825760516104, 0.2517077150825284, 0.24855613321204129, 0.2063120213902452, 0.2245925631548604, 0.17993415986963057, 0.25973900002753725, 0.2066126738667417, 0.22597551785755496, 0.20309680148770148, 0.2440453092754174, 0.1856373652804474, 0.21266669444692174, 0.22889596144006405, 0.23397079190160186, 0.22025254235324646, 0.26222119505230457, 0.2122410739897796, 0.209509249359977, 0.28006400095661177, 0.23857194392038722, 0.2335061629713055, 0.21138957809876718, 0.1869520414943405, 0.2365922747119959, 0.24165915420508016, 0.2769055928892297, 0.37896323296252254, 0.25870911201489855, 0.20776884203799817, 0.3208074641208929, 0.30205196174773113, 0.2896469228235078, 0.2457451989779289, 0.2788453490658158, 0.22302270279784955, 0.24134285554626544, 0.21733991983044865, 0.2315719929075254, 0.26588887814728823, 0.25574309776282195, 0.190009975185986, 0.23135944464373376, 0.32610715604262785, 0.2038832485935302, 0.23100155786600984]\n"
     ]
    }
   ],
   "source": [
    "MSE = [] # It will contain the 50 mean squared errors\n",
    "print(\"Calculating......\")\n",
    "for i in range(50):\n",
    "    MSE.append(evaluate())\n",
    "    print(f\"Finished {i+1}/50\")\n",
    "print(f\"\\nThe list containing mean squared errors: {MSE}\")"
   ]
  },
  {
   "cell_type": "code",
   "execution_count": 28,
   "id": "d72eca85",
   "metadata": {},
   "outputs": [
    {
     "name": "stdout",
     "output_type": "stream",
     "text": [
      "The mean is \"0.2418\" and the standard deviation is \"0.0396\".\n"
     ]
    }
   ],
   "source": [
    "# Calculate the mean\n",
    "mean = np.mean(MSE)\n",
    "# Calculate standard deviation\n",
    "std = np.std(MSE)\n",
    "# Report\n",
    "print(f\"The mean is \\\"{mean:.4f}\\\" and the standard deviation is \\\"{std:.4f}\\\".\")"
   ]
  },
  {
   "cell_type": "markdown",
   "id": "1294be92",
   "metadata": {},
   "source": [
    "How does the mean of the mean squared errors compare to that from Step A?\n",
    "\n",
    "After normalization, the mean of the mean squared errors has reduced a lot."
   ]
  },
  {
   "cell_type": "markdown",
   "id": "7bfc9698",
   "metadata": {},
   "source": [
    "# C. Increase the number of epochs"
   ]
  },
  {
   "cell_type": "code",
   "execution_count": 29,
   "id": "7141589b",
   "metadata": {},
   "outputs": [
    {
     "name": "stdout",
     "output_type": "stream",
     "text": [
      "Calculating......\n",
      "Finished 1/50\n",
      "Finished 2/50\n",
      "Finished 3/50\n",
      "Finished 4/50\n",
      "Finished 5/50\n",
      "Finished 6/50\n",
      "Finished 7/50\n",
      "Finished 8/50\n",
      "Finished 9/50\n",
      "Finished 10/50\n",
      "Finished 11/50\n",
      "Finished 12/50\n",
      "Finished 13/50\n",
      "Finished 14/50\n",
      "Finished 15/50\n",
      "Finished 16/50\n",
      "Finished 17/50\n",
      "Finished 18/50\n",
      "Finished 19/50\n",
      "Finished 20/50\n",
      "Finished 21/50\n",
      "Finished 22/50\n",
      "Finished 23/50\n",
      "Finished 24/50\n",
      "Finished 25/50\n",
      "Finished 26/50\n",
      "Finished 27/50\n",
      "Finished 28/50\n",
      "Finished 29/50\n",
      "Finished 30/50\n",
      "Finished 31/50\n",
      "Finished 32/50\n",
      "Finished 33/50\n",
      "Finished 34/50\n",
      "Finished 35/50\n",
      "Finished 36/50\n",
      "Finished 37/50\n",
      "Finished 38/50\n",
      "Finished 39/50\n",
      "Finished 40/50\n",
      "Finished 41/50\n",
      "Finished 42/50\n",
      "Finished 43/50\n",
      "Finished 44/50\n",
      "Finished 45/50\n",
      "Finished 46/50\n",
      "Finished 47/50\n",
      "Finished 48/50\n",
      "Finished 49/50\n",
      "Finished 50/50\n",
      "\n",
      "The list containing mean squared errors: [0.16664437094350093, 0.17619303908302725, 0.15817863948682928, 0.15585866070136215, 0.1594322727751921, 0.1862937298590945, 0.1767355535408175, 0.24648948016764763, 0.16307405266692607, 0.14336235062475305, 0.15681778205194527, 0.1658136667758816, 0.1767498151861332, 0.15637728179826108, 0.19268833252691545, 0.1422300184171259, 0.1981340453936619, 0.1537030200292146, 0.2577978108145836, 0.13928282240024764, 0.19930885100726195, 0.15356647588911698, 0.16533119623007383, 0.16837796995934184, 0.15037296699587263, 0.17996579972417281, 0.1584989078914313, 0.21210227911648066, 0.3843840060694622, 0.15889746682592473, 0.21129442081330016, 0.19951960669440852, 0.22034578508688094, 0.24866814528069242, 0.19664575094115957, 0.16944990521731101, 0.15313059545553018, 0.18410035038865133, 0.1756121556224032, 0.21540747268192656, 0.19614809804111505, 0.22749272680797483, 0.17838262470963476, 0.1618243066166423, 0.15628190773032932, 0.1613666438929961, 0.1573319033275823, 0.1979669096257642, 0.1704686140317543, 0.1678512277006072]\n"
     ]
    }
   ],
   "source": [
    "MSE = [] # It will contain the 50 mean squared errors\n",
    "print(\"Calculating......\")\n",
    "for i in range(50):\n",
    "    MSE.append(evaluate(100))\n",
    "    print(f\"Finished {i+1}/50\")\n",
    "print(f\"\\nThe list containing mean squared errors: {MSE}\")"
   ]
  },
  {
   "cell_type": "code",
   "execution_count": 30,
   "id": "729814d6",
   "metadata": {},
   "outputs": [
    {
     "name": "stdout",
     "output_type": "stream",
     "text": [
      "The mean is \"0.1830\" and the standard deviation is \"0.0400\".\n"
     ]
    }
   ],
   "source": [
    "# Calculate the mean\n",
    "mean = np.mean(MSE)\n",
    "# Calculate standard deviation\n",
    "std = np.std(MSE)\n",
    "# Report\n",
    "print(f\"The mean is \\\"{mean:.4f}\\\" and the standard deviation is \\\"{std:.4f}\\\".\")"
   ]
  },
  {
   "cell_type": "markdown",
   "id": "afff60bf",
   "metadata": {},
   "source": [
    "How does the mean of the mean squared errors compare to that from Step B?\n",
    "\n",
    "After increasing the epochs, the mean of the mean squared errors has further reduced."
   ]
  },
  {
   "cell_type": "markdown",
   "id": "5ca117ca",
   "metadata": {},
   "source": [
    "# D. Increase the number of hidden layers"
   ]
  },
  {
   "cell_type": "code",
   "execution_count": 31,
   "id": "1a37c5d6",
   "metadata": {},
   "outputs": [],
   "source": [
    "#Redefine the model function\n",
    "def model_d(verbose=0,epochs=50):\n",
    "    #Build the model\n",
    "    model_d = tf.keras.Sequential([\n",
    "        tf.keras.layers.Dense(10,input_shape=(8,),activation=\"relu\"),\n",
    "        tf.keras.layers.Dense(10,activation=\"relu\"), # Second hidden layer\n",
    "        tf.keras.layers.Dense(10,activation=\"relu\"), # Third hidden layer\n",
    "        tf.keras.layers.Dense(1)\n",
    "    ])\n",
    "    #Compile the model\n",
    "    model_d.compile(optimizer=\"adam\",loss=tf.losses.mean_squared_error)\n",
    "    #Train the model\n",
    "    model_d.fit(X_train, y_train, validation_data=(X_test,y_test), epochs=epochs, verbose=verbose)\n",
    "    return model_d"
   ]
  },
  {
   "cell_type": "code",
   "execution_count": 32,
   "id": "a56a78e9",
   "metadata": {},
   "outputs": [],
   "source": [
    "#Redefine the evaluate function\n",
    "def evaluate(epochs=50):\n",
    "    split_data()\n",
    "    return mean_squared_error(model_d(epochs=epochs).predict(X_test),y_test)"
   ]
  },
  {
   "cell_type": "code",
   "execution_count": 33,
   "id": "1461a042",
   "metadata": {},
   "outputs": [
    {
     "name": "stdout",
     "output_type": "stream",
     "text": [
      "Calculating......\n",
      "Finished 1/50\n",
      "Finished 2/50\n",
      "Finished 3/50\n",
      "Finished 4/50\n",
      "Finished 5/50\n",
      "Finished 6/50\n",
      "Finished 7/50\n",
      "Finished 8/50\n",
      "Finished 9/50\n",
      "Finished 10/50\n",
      "Finished 11/50\n",
      "Finished 12/50\n",
      "Finished 13/50\n",
      "Finished 14/50\n",
      "Finished 15/50\n",
      "Finished 16/50\n",
      "Finished 17/50\n",
      "Finished 18/50\n",
      "Finished 19/50\n",
      "Finished 20/50\n",
      "Finished 21/50\n",
      "Finished 22/50\n",
      "Finished 23/50\n",
      "Finished 24/50\n",
      "Finished 25/50\n",
      "Finished 26/50\n",
      "Finished 27/50\n",
      "Finished 28/50\n",
      "Finished 29/50\n",
      "Finished 30/50\n",
      "Finished 31/50\n",
      "Finished 32/50\n",
      "Finished 33/50\n",
      "Finished 34/50\n",
      "Finished 35/50\n",
      "Finished 36/50\n",
      "Finished 37/50\n",
      "Finished 38/50\n",
      "Finished 39/50\n",
      "Finished 40/50\n",
      "Finished 41/50\n",
      "Finished 42/50\n",
      "Finished 43/50\n",
      "Finished 44/50\n",
      "Finished 45/50\n",
      "Finished 46/50\n",
      "Finished 47/50\n",
      "Finished 48/50\n",
      "Finished 49/50\n",
      "Finished 50/50\n",
      "\n",
      "The list containing mean squared errors: [0.1784908474852643, 0.17505011033323897, 0.13906767582593713, 0.16303692134652337, 0.20762757723258252, 0.19901181864636944, 0.1600370297772455, 0.14984705655797795, 0.18227159725762043, 0.1977407783047494, 0.17973171118163866, 0.17295905657797203, 0.1789443983272766, 0.18132229735898847, 0.2292426308249118, 0.18896386461931494, 0.20855728364403028, 0.2190419767939465, 0.1535810797229466, 0.16614057784505792, 0.18288572807893214, 0.21877185794609502, 0.17349207237045364, 0.16152819271389648, 0.17649018020267077, 0.18029906833851908, 0.18025449625925766, 0.2178284467531901, 0.15961587200461352, 0.1389351414036727, 0.18863387972774814, 0.21148135448429692, 0.18914156488618256, 0.20446387758201792, 0.152531906250548, 0.18948546971235625, 0.21995775861685946, 0.14661141271957603, 0.18751929981036777, 0.17673464534074176, 0.18662155539120542, 0.19658257114017186, 0.18999654935078808, 0.18977021002629285, 0.12220861503524619, 0.17186333020381492, 0.17757962935356017, 0.1502664266146657, 0.19124912299984595, 0.2567767607092844]\n"
     ]
    }
   ],
   "source": [
    "#Creat list for mean squared errors\n",
    "MSE = [] # It will contain the 50 mean squared errors\n",
    "print(\"Calculating......\")\n",
    "for i in range(50):\n",
    "    MSE.append(evaluate())\n",
    "    print(f\"Finished {i+1}/50\")\n",
    "print(f\"\\nThe list containing mean squared errors: {MSE}\")"
   ]
  },
  {
   "cell_type": "code",
   "execution_count": 34,
   "id": "2b9baa44",
   "metadata": {},
   "outputs": [
    {
     "name": "stdout",
     "output_type": "stream",
     "text": [
      "The mean is \"0.1824\" and the standard deviation is \"0.0253\".\n"
     ]
    }
   ],
   "source": [
    "# Calculate the mean\n",
    "mean = np.mean(MSE)\n",
    "# Calculate standard deviation\n",
    "std = np.std(MSE)\n",
    "# Report\n",
    "print(f\"The mean is \\\"{mean:.4f}\\\" and the standard deviation is \\\"{std:.4f}\\\".\")"
   ]
  },
  {
   "cell_type": "markdown",
   "id": "9893dd33",
   "metadata": {},
   "source": [
    "How does the mean of the mean squared errors compare to that from Step B?\n",
    "\n",
    "By adding two more dense layers into the model, the mean of the mean squared errors has further reduced."
   ]
  },
  {
   "cell_type": "markdown",
   "id": "2e1ab8d7",
   "metadata": {},
   "source": [
    "# This is the end, thank you!"
   ]
  }
 ],
 "metadata": {
  "kernelspec": {
   "display_name": "Python 3 (ipykernel)",
   "language": "python",
   "name": "python3"
  },
  "language_info": {
   "codemirror_mode": {
    "name": "ipython",
    "version": 3
   },
   "file_extension": ".py",
   "mimetype": "text/x-python",
   "name": "python",
   "nbconvert_exporter": "python",
   "pygments_lexer": "ipython3",
   "version": "3.8.5"
  }
 },
 "nbformat": 4,
 "nbformat_minor": 5
}
